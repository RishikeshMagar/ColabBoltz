{
  "nbformat": 4,
  "nbformat_minor": 0,
  "metadata": {
    "colab": {
      "provenance": [],
      "machine_shape": "hm",
      "gpuType": "A100",
      "authorship_tag": "ABX9TyMQYSeW9A2bcDtxq2mxHQ+s",
      "include_colab_link": true
    },
    "kernelspec": {
      "name": "python3",
      "display_name": "Python 3"
    },
    "language_info": {
      "name": "python"
    },
    "accelerator": "GPU"
  },
  "cells": [
    {
      "cell_type": "markdown",
      "metadata": {
        "id": "view-in-github",
        "colab_type": "text"
      },
      "source": [
        "<a href=\"https://colab.research.google.com/github/RishikeshMagar/ColabBoltz/blob/main/ColabBoltz_Monomer.ipynb\" target=\"_parent\"><img src=\"https://colab.research.google.com/assets/colab-badge.svg\" alt=\"Open In Colab\"/></a>"
      ]
    },
    {
      "cell_type": "markdown",
      "source": [
        "Colab Notebook to run Boltz-2."
      ],
      "metadata": {
        "id": "kISzXKQo3nEK"
      }
    },
    {
      "cell_type": "code",
      "source": [
        "#@title Install dependencies\n",
        "\n",
        "!pip install -q --no-deps boltz -U\n",
        "!pip install -q py3Dmol rdkit biopython matplotlib pandas\n"
      ],
      "metadata": {
        "id": "jlEHAYIGUikK"
      },
      "execution_count": 4,
      "outputs": []
    },
    {
      "cell_type": "code",
      "source": [
        "# !boltz --help"
      ],
      "metadata": {
        "id": "YLAzYakNh1wF"
      },
      "execution_count": 7,
      "outputs": []
    },
    {
      "cell_type": "markdown",
      "source": [
        "Following the [ColabFold Protocols](https://www.nature.com/articles/s41596-024-01060-5), we explore monomer Prediction in this example notebook. I will be using the [PIGU](https://github.com/steineggerlab/colabfold-protocol/blob/main/query/PIGU.fasta) fasta sequence as an example"
      ],
      "metadata": {
        "id": "BROjvqhcWhlK"
      }
    },
    {
      "cell_type": "code",
      "source": [
        "#@title Input protein and ligand(s)\n",
        "from google.colab import files\n",
        "import os\n",
        "import re\n",
        "import hashlib\n",
        "import random\n",
        "import requests\n",
        "\n",
        "# Helper to generate unique job name\n",
        "def add_hash(x, y):\n",
        "    return x + \"_\" + hashlib.sha1(y.encode()).hexdigest()[:5]\n",
        "\n",
        "#@markdown ### Protein(s)\n",
        "query_sequence = 'MAAPLVLVLVVAVTVRAALFRSSLAEFISERVEVVSPLSSWKRVVEGLSLLDLGVSPYSGAVFHETPLIIYLFHFLIDYAELVFMITDALTAIALYFAIQDFNKVVFKKQKLLLELDQYAPDVAELIRTPMEMRYIPLKVALFYLLNPYTILSCVAKSTCAINNTLIAFFILTTIKGSAFLSAIFLALATYQSLYPLTLFVPGLLYLLQRQYIPVKMKSKAFWIFSWEYAMMYVGSLVVIICLSFFLLSSWDFIPAVYGFILSVPDLTPNIGLFWYFFAEMFEHFSLFFVCVFQINVFFYTIPLAIKLKEHPIFFMFIQIAVIAIFKSYPTVGDVALYMAFFPVWNHLYRFLRNIFVLTCIIIVCSLLFPVLWHLWIYAGSANSNFFYAITLTFNVGQILLISDYFYAFLRREYYLTHGL'  #@param {type:\"string\"}\n",
        "#@markdown Use `:` to separate chains (e.g., \"SEQ1:SEQ2\")\n",
        "\n",
        "#@markdown ### Ligands\n",
        "ligand_input = ''  #@param {type:\"string\"}\n",
        "#@markdown - Colon-separated SMILES strings\n",
        "\n",
        "ligand_input_ccd = ''  #@param {type:\"string\"}\n",
        "#@markdown - Colon-separated CCD codes\n",
        "\n",
        "ligand_input_common_name = ''  #@param {type:\"string\"}\n",
        "#@markdown - Colon-separated common names (e.g., \"aspirin\")\n",
        "\n",
        "#@markdown ### DNA\n",
        "dna_input = ''  #@param {type:\"string\"}\n",
        "#@markdown - Colon-separated DNA sequences\n",
        "\n",
        "rna_input = ''  #@param {type:\"string\"}\n",
        "#@markdown - Colon-separated RNA sequences\n",
        "\n",
        "#@markdown ### Jobname\n",
        "jobname = 'Monomer Prediction'  #@param {type:\"string\"}\n",
        "\n",
        "# Clean up\n",
        "query_sequence = \"\".join(query_sequence.split())\n",
        "ligand_input = \"\".join(ligand_input.split())\n",
        "ligand_input_ccd = \"\".join(ligand_input_ccd.split())\n",
        "ligand_input_common_name = \"\".join(ligand_input_common_name.split())\n",
        "dna_input = \"\".join(dna_input.split())\n",
        "basejobname = \"\".join(jobname.split())\n",
        "basejobname = re.sub(r'\\W+', '', basejobname)\n",
        "jobname = add_hash(basejobname, query_sequence)\n",
        "\n",
        "# Ensure uniqueness\n",
        "if os.path.exists(jobname):\n",
        "    n = 0\n",
        "    while os.path.exists(f\"{jobname}_{n}\"):\n",
        "        n += 1\n",
        "    jobname = f\"{jobname}_{n}\"\n",
        "\n",
        "# Create job folder\n",
        "os.makedirs(jobname, exist_ok=True)\n",
        "print(f\"✅ Job directory created: {jobname}\")\n"
      ],
      "metadata": {
        "colab": {
          "base_uri": "https://localhost:8080/"
        },
        "id": "HibGr66g6Bqo",
        "outputId": "07c0f3cf-3129-4753-c3ad-516a6193c90c"
      },
      "execution_count": 2,
      "outputs": [
        {
          "output_type": "stream",
          "name": "stdout",
          "text": [
            "✅ Job directory created: MonomerPrediction_36762_0\n"
          ]
        }
      ]
    },
    {
      "cell_type": "code",
      "source": [
        "#@title Process inputs and write YAML\n",
        "import os\n",
        "import yaml\n",
        "from string import ascii_uppercase\n",
        "\n",
        "# Step 1: Split sequences on chain breaks\n",
        "protein_sequences = query_sequence.strip().split(':') if query_sequence.strip() else []\n",
        "ligand_sequences = ligand_input.strip().split(':') if ligand_input.strip() else []\n",
        "ligand_sequences_ccd = ligand_input_ccd.strip().split(':') if ligand_input_ccd.strip() else []\n",
        "ligand_sequences_common_name = ligand_input_common_name.strip().split(':') if ligand_input_common_name.strip() else []\n",
        "dna_sequences = dna_input.strip().split(':') if dna_input.strip() else []\n",
        "\n",
        "# Step 2: Resolve common names to SMILES\n",
        "def get_smiles(compound_name):\n",
        "    autocomplete_url = f\"https://pubchem.ncbi.nlm.nih.gov/rest/autocomplete/compound/{compound_name}/json?limit=1\"\n",
        "    autocomplete_response = requests.get(autocomplete_url)\n",
        "    if autocomplete_response.status_code != 200:\n",
        "        return None\n",
        "    autocomplete_data = autocomplete_response.json()\n",
        "    if autocomplete_data.get(\"status\", {}).get(\"code\") != 0 or autocomplete_data.get(\"total\", 0) == 0:\n",
        "        return None\n",
        "    suggested = autocomplete_data.get(\"dictionary_terms\", {}).get(\"compound\", [])\n",
        "    if not suggested:\n",
        "        return None\n",
        "    smiles_url = f\"https://pubchem.ncbi.nlm.nih.gov/rest/pug/compound/name/{suggested[0]}/property/CanonicalSMILES/JSON\"\n",
        "    smiles_response = requests.get(smiles_url)\n",
        "    if smiles_response.status_code != 200:\n",
        "        return None\n",
        "    props = smiles_response.json().get(\"PropertyTable\", {}).get(\"Properties\", [])\n",
        "    return props[0].get(\"CanonicalSMILES\") if props else None\n",
        "\n",
        "smiles_cache = {}\n",
        "for name in ligand_sequences_common_name:\n",
        "    if name not in smiles_cache:\n",
        "        smiles_cache[name] = get_smiles(name)\n",
        "        if smiles_cache[name]:\n",
        "            print(f\"Mapped compound {name} to {smiles_cache[name]}\")\n",
        "    if smiles_cache[name]:\n",
        "        ligand_sequences.append(smiles_cache[name])\n",
        "\n",
        "# Step 3: Assign chain labels and collect entries\n",
        "chain_labels = iter(ascii_uppercase)\n",
        "sequences_yaml = []\n",
        "csv_entries = []\n",
        "seq_id_counter = 0\n",
        "seq_to_seq_id = {}\n",
        "\n",
        "for seq in protein_sequences:\n",
        "    seq = seq.strip()\n",
        "    if not seq:\n",
        "        continue\n",
        "    chain_id = next(chain_labels)\n",
        "    if seq not in seq_to_seq_id:\n",
        "        seq_id = f\"{jobname}_{seq_id_counter}\"\n",
        "        seq_id_counter += 1\n",
        "        seq_to_seq_id[seq] = seq_id\n",
        "        csv_entries.append((seq_id, seq))\n",
        "    sequences_yaml.append({\n",
        "        \"protein\": {\n",
        "            \"id\": chain_id,\n",
        "            \"sequence\": seq,\n",
        "\n",
        "        }\n",
        "    })\n",
        "\n",
        "for smiles in ligand_sequences:\n",
        "    smiles = smiles.strip()\n",
        "    if not smiles:\n",
        "        continue\n",
        "    chain_id = next(chain_labels)\n",
        "    sequences_yaml.append({\n",
        "        \"ligand\": {\n",
        "            \"id\": chain_id,\n",
        "            \"smiles\": smiles\n",
        "        }\n",
        "    })\n",
        "\n",
        "for ccd in ligand_sequences_ccd:\n",
        "    ccd = ccd.strip().upper()\n",
        "    if not ccd:\n",
        "        continue\n",
        "    chain_id = next(chain_labels)\n",
        "    sequences_yaml.append({\n",
        "        \"ligand\": {\n",
        "            \"id\": chain_id,\n",
        "            \"ccd\": ccd\n",
        "        }\n",
        "    })\n",
        "\n",
        "for dna in dna_sequences:\n",
        "    dna = dna.strip()\n",
        "    if not dna:\n",
        "        continue\n",
        "    chain_id = next(chain_labels)\n",
        "    sequences_yaml.append({\n",
        "        \"dna\": {\n",
        "            \"id\": chain_id,\n",
        "            \"sequence\": dna\n",
        "        }\n",
        "    })\n",
        "\n",
        "# Step 4: Write CSV for MSA (ColabFold)\n",
        "csv_path = os.path.join(jobname, f\"{jobname}.csv\")\n",
        "with open(csv_path, 'w') as f:\n",
        "    f.write(\"id,sequence\\n\")\n",
        "    for seq_id, seq in csv_entries:\n",
        "        f.write(f\"{seq_id},{seq}\\n\")\n",
        "\n",
        "# Step 5: Write YAML for Boltz\n",
        "yaml_path = os.path.join(jobname, \"input.yaml\")\n",
        "with open(yaml_path, 'w') as f:\n",
        "    yaml.dump({\"sequences\": sequences_yaml}, f, sort_keys=False)\n",
        "\n",
        "print(f\"✅ YAML written to: {yaml_path}\")\n",
        "print(f\"✅ CSV written to: {csv_path}\")\n"
      ],
      "metadata": {
        "colab": {
          "base_uri": "https://localhost:8080/"
        },
        "id": "MVqdqB8LeJM-",
        "outputId": "802df081-7b30-454a-dc90-9f5fad8ea645"
      },
      "execution_count": 3,
      "outputs": [
        {
          "output_type": "stream",
          "name": "stdout",
          "text": [
            "✅ YAML written to: MonomerPrediction_36762_0/input.yaml\n",
            "✅ CSV written to: MonomerPrediction_36762_0/MonomerPrediction_36762_0.csv\n"
          ]
        }
      ]
    },
    {
      "cell_type": "code",
      "source": [
        "#@title Boltz Runtime Settings\n",
        "#@markdown These will be passed as CLI flags to `boltz predict`\n",
        "\n",
        "# General\n",
        "out_dir = \"results\"  #@param {type:\"string\"}\n",
        "cache_dir = \"~/.boltz\"  #@param {type:\"string\"}\n",
        "checkpoint = \"\"  #@param {type:\"string\"}\n",
        "devices = 1  #@param {type:\"integer\"}\n",
        "accelerator = \"gpu\"  #@param [\"gpu\", \"cpu\", \"tpu\"]\n",
        "num_workers = 2  #@param {type:\"integer\"}\n",
        "output_format = \"mmcif\"  #@param [\"pdb\", \"mmcif\"]\n",
        "\n",
        "# Sampling\n",
        "sampling_steps = 200  #@param {type:\"integer\"}\n",
        "diffusion_samples = 1  #@param {type:\"integer\"}\n",
        "max_parallel_samples = 5  #@param {type:\"integer\"}\n",
        "step_scale = 1.638  #@param {type:\"number\"}\n",
        "\n",
        "# MSA\n",
        "use_msa_server = True  #@param {type:\"boolean\"}\n",
        "msa_server_url = \"https://api.colabfold.com\"  #@param {type:\"string\"}\n",
        "msa_pairing_strategy = \"greedy\"  #@param [\"greedy\", \"complete\"]\n",
        "max_msa_seqs = 8192  #@param {type:\"integer\"}\n",
        "subsample_msa = False  #@param {type:\"boolean\"}\n",
        "num_subsampled_msa = 1024  #@param {type:\"integer\"}\n",
        "\n",
        "# Affinity settings (optional, for protein-ligand tasks later)\n",
        "affinity_checkpoint = \"\"  #@param {type:\"string\"}\n",
        "sampling_steps_affinity = 200  #@param {type:\"integer\"}\n",
        "diffusion_samples_affinity = 5  #@param {type:\"integer\"}\n",
        "affinity_mw_correction = False  #@param {type:\"boolean\"}\n",
        "\n",
        "# Preprocessing and advanced flags\n",
        "method = \"\"  #@param {type:\"string\"}\n",
        "preprocessing_threads = 4  #@param {type:\"integer\"}\n",
        "no_trifast = False  #@param {type:\"boolean\"}\n",
        "override = False  #@param {type:\"boolean\"}\n",
        "use_potentials = False  #@param {type:\"boolean\"}\n",
        "write_full_pae = False  #@param {type:\"boolean\"}\n",
        "write_full_pde = False  #@param {type:\"boolean\"}\n",
        "\n",
        "# # For reproducibility\n",
        "# random_seed = 42  #@param {type:\"integer\"}\n",
        "\n",
        "print(\"✅ All runtime flags captured.\")\n",
        "\n",
        "\n"
      ],
      "metadata": {
        "colab": {
          "base_uri": "https://localhost:8080/"
        },
        "id": "wt6wkhhG7dLX",
        "outputId": "37ee3ac0-9bfa-4ac7-8ade-9d5e4d4c9733"
      },
      "execution_count": 4,
      "outputs": [
        {
          "output_type": "stream",
          "name": "stdout",
          "text": [
            "✅ All runtime flags captured.\n"
          ]
        }
      ]
    },
    {
      "cell_type": "code",
      "source": [
        "import shlex\n",
        "\n",
        "# Required args\n",
        "yaml_path = f\"{jobname}/input.yaml\"\n",
        "output_dir = jobname\n",
        "\n",
        "# CLI defaults based on Boltz documentation\n",
        "defaults = {\n",
        "    \"sampling_steps\": 200,\n",
        "    \"diffusion_samples\": 1,\n",
        "    \"seed\": None,\n",
        "    \"device\": \"\",  # empty means auto\n",
        "    \"use_msa_server\": False,\n",
        "    \"msa_server_url\": \"https://api.colabfold.com\",\n",
        "    \"msa_pairing_strategy\": \"greedy\",\n",
        "    \"max_parallel_samples\": 5,\n",
        "    \"step_scale\": 1.638,\n",
        "    \"output_format\": \"mmcif\",\n",
        "    \"num_workers\": 2,\n",
        "    \"max_msa_seqs\": 8192,\n",
        "    \"subsample_msa\": False,\n",
        "    \"num_subsampled_msa\": 1024,\n",
        "    \"no_trifast\": False,\n",
        "    \"override\": False,\n",
        "    \"use_potentials\": False,\n",
        "    \"write_full_pae\": False,\n",
        "    \"write_full_pde\": False,\n",
        "    \"checkpoint\": \"\",\n",
        "    \"cache_dir\": \"~/.boltz\",\n",
        "    \"devices\": 1,\n",
        "    \"accelerator\": \"gpu\",\n",
        "    \"preprocessing_threads\": None,\n",
        "    \"method\": \"\",\n",
        "    \"affinity_checkpoint\": \"\",\n",
        "    \"sampling_steps_affinity\": 200,\n",
        "    \"diffusion_samples_affinity\": 5,\n",
        "    \"affinity_mw_correction\": False,\n",
        "}\n",
        "# User-specified values (names match your param block exactly)\n",
        "# User-specified values (names match your @param block exactly)\n",
        "flags = {\n",
        "    \"sampling_steps\": sampling_steps,\n",
        "    \"diffusion_samples\": diffusion_samples,\n",
        "    \"use_msa_server\": use_msa_server,\n",
        "    \"msa_server_url\": msa_server_url,\n",
        "    \"msa_pairing_strategy\": msa_pairing_strategy,\n",
        "    \"max_parallel_samples\": max_parallel_samples,\n",
        "    \"step_scale\": step_scale,\n",
        "    \"output_format\": output_format,\n",
        "    \"num_workers\": num_workers,\n",
        "    \"max_msa_seqs\": max_msa_seqs,\n",
        "    \"subsample_msa\": subsample_msa,\n",
        "    \"num_subsampled_msa\": num_subsampled_msa,\n",
        "    \"no_trifast\": no_trifast,\n",
        "    \"override\": override,\n",
        "    \"use_potentials\": use_potentials,\n",
        "    \"write_full_pae\": write_full_pae,\n",
        "    \"write_full_pde\": write_full_pde,\n",
        "    \"checkpoint\": checkpoint,\n",
        "    \"cache_dir\": cache_dir,\n",
        "    \"devices\": devices,\n",
        "    \"accelerator\": accelerator,\n",
        "    \"preprocessing_threads\": preprocessing_threads,\n",
        "    \"method\": method,\n",
        "    \"affinity_checkpoint\": affinity_checkpoint,\n",
        "    \"sampling_steps_affinity\": sampling_steps_affinity,\n",
        "    \"diffusion_samples_affinity\": diffusion_samples_affinity,\n",
        "    \"affinity_mw_correction\": affinity_mw_correction,\n",
        "}\n",
        "\n",
        "\n",
        "# Build command\n",
        "cmd = [\"boltz\", \"predict\", \"--out_dir\", output_dir]\n",
        "\n",
        "for k, v in flags.items():\n",
        "    default = defaults[k]\n",
        "    if v != default and v is not None and v != \"\":\n",
        "        flag = f\"--{k}\".replace(\"_\", \"-\")\n",
        "        if isinstance(v, bool):\n",
        "            if v:\n",
        "                cmd.append(flag)\n",
        "        else:\n",
        "            cmd += [flag, str(v)]\n",
        "\n",
        "# Positional YAML file argument\n",
        "cmd.append(yaml_path)\n",
        "\n",
        "# Print full command\n",
        "print(\"✅ Running command:\\n\", \" \".join(shlex.quote(arg) for arg in cmd))\n",
        "\n",
        "# Execute\n",
        "!{\" \".join(shlex.quote(arg) for arg in cmd)}"
      ],
      "metadata": {
        "colab": {
          "base_uri": "https://localhost:8080/"
        },
        "id": "L1dDLxli0S6f",
        "outputId": "115707db-6a8f-4615-bc08-cc9c71a57e81"
      },
      "execution_count": 8,
      "outputs": [
        {
          "output_type": "stream",
          "name": "stdout",
          "text": [
            "✅ Running command:\n",
            " boltz predict --out_dir MonomerPrediction_36762_0 --use-msa-server --preprocessing-threads 4 MonomerPrediction_36762_0/input.yaml\n",
            "Traceback (most recent call last):\n",
            "  File \"/usr/local/bin/boltz\", line 5, in <module>\n",
            "    from boltz.main import cli\n",
            "  File \"/usr/local/lib/python3.11/dist-packages/boltz/main.py\", line 15, in <module>\n",
            "    from pytorch_lightning import Trainer, seed_everything\n",
            "ModuleNotFoundError: No module named 'pytorch_lightning'\n"
          ]
        }
      ]
    },
    {
      "cell_type": "code",
      "source": [],
      "metadata": {
        "id": "rAPCxZcA1PUB"
      },
      "execution_count": null,
      "outputs": []
    }
  ]
}